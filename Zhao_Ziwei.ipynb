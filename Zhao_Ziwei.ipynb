{
 "cells": [
  {
   "cell_type": "code",
   "execution_count": null,
   "metadata": {},
   "outputs": [],
   "source": [
    "1.The names of team member(s)\n",
    "Ziwei Zhao\n",
    "\n",
    "2.How to run your code (what command-line switches they are, what happens when you invoke the code, etc.)\n",
    "All the packages I imported in my program are:\n",
    "import matplotlib.pyplot as plt\n",
    "import requests\n",
    "import wbdata\n",
    "from pandas_datareader import wb\n",
    "import sqlite3\n",
    "import os\n",
    "from bs4 import BeautifulSoup\n",
    "import argparse\n",
    "import Spider, film_API, getCountry, getGDP, analysis\n",
    "\n",
    "\"python Zhao_Ziwei_hw5.py -source=test\": Run the program and gather data from the Internet.\n",
    "\"python Zhao_Ziwei_hw5.py -source=local\": Run the program and gather data from local, \n",
    "                                          if the necessary files are not existed, there will be a notice and ask you to run '-source=test' firstly.\n",
    "                                          \n",
    "3.Any major “gotchas” to the code (i.e. things that don’t work, go slowly, could be improved, etc.)\n",
    "If run '-source=test', the program will take a while(2-3 mins) for gathering data online.\n",
    "Some GDP information cannot be gathered because the year beyond the range of world bank's database\n",
    "Some warning information may occur during running the program, please ignore it and the program will end normally.\n",
    "\n",
    "4.Anything else you feel is relevant to the grading of your project.\n",
    "Although the final results may not be super cool, I already tried my best and really spent lots of time on the project.\n",
    "Looking forward for a good grade :)\n",
    "\n",
    "5.What did you set out to study?  (i.e. what was the point of your project?  This should be close to your Milestone 1 assignment, but if you switched gears or changed things, note it here.)\n",
    "Through gathering the first 200 pieces of top1000 movies information in IMDb(according to user rating) \n",
    "and GDP information about the original countries in specific year, I want to analyze and get the results of:\n",
    "the most popular country which produces most amount of wonderful movies\n",
    "the change of amount of movies with high score in different years\n",
    "the change of GDP for popular countries\n",
    "\n",
    "6.What did you Discover/what were your conclusions (i.e. what were your findings?  Were your original assumptions confirmed, etc.?)\n",
    "Among the top200 films, more than half of them come from USA(52.61%)\n",
    "As for the change of amount of movies, In general the line fluctuate in between 2 and 8 and the trend is rising. \n",
    "The peak value occurs in 2006(8) and the change between 2005-2006 and 2006-2007 is extremely.\n",
    "I selected top10 of the most popular countries according to how many great movies they have, and found out that\n",
    "all of them have a steadily growing GDP. Among them, the biggest difference is USA, which is also the highest output.\n",
    "The conclusions above have been uploaded to my Github and they are three pictures ending with png.\n",
    "(https://github.com/Ziwei-Zhao/inf510_project/tree/master/data)\n",
    "7.What difficulties did you have in completing the project?  \n",
    "Consider how to handle the different types of data and do the caculation between them.\n",
    "Various bugs during test.\n",
    "Try to reduce the time of running program by checking unnecessary or duplicate operations.\n",
    "\n",
    "8.What skills did you wish you had while you were doing the project?\n",
    "The ability of quick debugging :)\n",
    "The ability of using databasee and SQL fluently\n",
    "\n",
    "9.What would you do “next” to expand or augment the project? \n",
    "Some GDP information cannot be gathered since I cannot map the country name amd it's abbreviation(iso2code).\n",
    "I may try to improve this by search a more complete comparison table\n",
    "And I may try to develop more functions for users to generate the results they want."
   ]
  }
 ],
 "metadata": {
  "kernelspec": {
   "display_name": "Python 3",
   "language": "python",
   "name": "python3"
  },
  "language_info": {
   "codemirror_mode": {
    "name": "ipython",
    "version": 3
   },
   "file_extension": ".py",
   "mimetype": "text/x-python",
   "name": "python",
   "nbconvert_exporter": "python",
   "pygments_lexer": "ipython3",
   "version": "3.7.3"
  }
 },
 "nbformat": 4,
 "nbformat_minor": 2
}
